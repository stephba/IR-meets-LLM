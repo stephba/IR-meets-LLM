{
 "cells": [
  {
   "cell_type": "markdown",
   "metadata": {},
   "source": [
    "# Load data and data analysis"
   ]
  },
  {
   "cell_type": "code",
   "execution_count": null,
   "metadata": {},
   "outputs": [],
   "source": [
    "# TODO\n",
    "# TODO: maybe load the dataset as follows from huggingface\n",
    "# https://huggingface.co/docs/datasets/v1.9.0/loading_datasets.html\n",
    "from datasets import load_dataset\n",
    "dataset = load_dataset('squad')"
   ]
  },
  {
   "cell_type": "markdown",
   "metadata": {},
   "source": [
    "# Setup generative model (open/closed model)"
   ]
  },
  {
   "cell_type": "code",
   "execution_count": 24,
   "metadata": {},
   "outputs": [],
   "source": [
    "from transformers import AutoTokenizer, OPTForCausalLM, pipeline\n",
    "\n",
    "class GenerativeModel:\n",
    "    def __init__(self, max_answer_length) -> None:\n",
    "        self.generator = pipeline('text-generation', model=\"facebook/opt-1.3b\")\n",
    "        self.model = OPTForCausalLM.from_pretrained(\"facebook/opt-1.3b\")\n",
    "        self.tokenizer = AutoTokenizer.from_pretrained(\"facebook/opt-1.3b\")\n",
    "        self.tokenizer.padding_side = \"left\"   # so that the text will continue as without padding\n",
    "        self.max_answer_length = max_answer_length\n",
    "\n",
    "    def get_open_model_answer(self, question, context, use_pipeline=False):\n",
    "        prompt = f\"CONTEXT:\\n{context}\\nQUESTION:\\n{question}\"\n",
    "        # generate answer\n",
    "        answer = self._generate_answer(prompt, use_pipeline)\n",
    "        # remove prompt from generated text\n",
    "        answer = answer.removeprefix(prompt)\n",
    "        return answer\n",
    "\n",
    "    def get_closed_model_answer(self, question, use_pipeline=False):\n",
    "        prompt = question\n",
    "        # generate answer\n",
    "        answer = self._generate_answer(prompt, use_pipeline)\n",
    "        # remove prompt from generated text\n",
    "        answer = answer.removeprefix(prompt)\n",
    "        return answer\n",
    "\n",
    "    def get_open_batch_answers(self, questions, contexts):\n",
    "        assert len(questions) == len(contexts), \"questions and contexts should have the same length\"\n",
    "        prompts = [f\"CONTEXT:\\n{contexts[i]}\\nQUESTION:\\n{questions[i]}\" for i in range(len(questions))]\n",
    "        # generate answers\n",
    "        answers = self._generate_batch_answers(prompts)\n",
    "        # remove prompts from generated text\n",
    "        answers = [answers[i].removeprefix(prompts[i]) for i in range(len(prompts))]\n",
    "        return answers\n",
    "\n",
    "    # https://github.com/huggingface/transformers/issues/10704\n",
    "    def get_closed_batch_answers(self, questions):\n",
    "        prompts = questions\n",
    "        # generate answers\n",
    "        answers = self._generate_batch_answers(prompts)\n",
    "        # remove prompts from generated text\n",
    "        # TEMP answers = [answers[i].removeprefix(prompts[i]) for i in range(len(prompts))]\n",
    "        return answers\n",
    "    \n",
    "    def _generate_answer(self, prompt, use_pipeline):\n",
    "        if use_pipeline:\n",
    "            answer = self.generator(prompt, max_new_tokens=self.max_answer_length)[0]['generated_text']\n",
    "        else:\n",
    "            inputs = self.tokenizer(prompt, return_tensors=\"pt\")\n",
    "            generate_ids = self.model.generate(inputs.input_ids, max_new_tokens=self.max_answer_length)\n",
    "            answer = self.tokenizer.batch_decode(generate_ids, skip_special_tokens=True, clean_up_tokenization_spaces=False)[0]\n",
    "        return answer\n",
    "\n",
    "    def _generate_batch_answers(self, prompts):\n",
    "        inputs = self.tokenizer(prompts, return_tensors=\"pt\", padding=True)  # padding, so that all prompts have same length for computing it as a batch\n",
    "        generate_ids = self.model.generate(inputs.input_ids, max_new_tokens=self.max_answer_length)\n",
    "        answers = self.tokenizer.batch_decode(generate_ids, skip_special_tokens=True, clean_up_tokenization_spaces=False)\n",
    "        return answers"
   ]
  },
  {
   "cell_type": "code",
   "execution_count": 25,
   "metadata": {},
   "outputs": [],
   "source": [
    "generative_model = GenerativeModel(max_answer_length=42)"
   ]
  },
  {
   "cell_type": "code",
   "execution_count": null,
   "metadata": {},
   "outputs": [],
   "source": [
    "# test for single question\n",
    "single_context = \"\"\"Super Bowl 50 was an American football game to determine the champion of the National Football League (NFL) for the 2015 season. The American Football Conference (AFC) champion Denver Broncos defeated the National Football Conference (NFC) champion Carolina Panthers 24–10 to earn their third Super Bowl title. The game was played on February 7, 2016, at Levi's Stadium in the San Francisco Bay Area at Santa Clara, California. As this was the 50th Super Bowl, the league emphasized the \"golden anniversary\" with various gold-themed initiatives, as well as temporarily suspending the tradition of naming each Super Bowl game with Roman numerals (under which the game would have been known as \"Super Bowl L\"), so that the logo could prominently feature the Arabic numerals 50.\"\"\"\n",
    "single_question = \"Which NFL team represented the AFC at Super Bowl 50?\"\n",
    "single_correct_answers = ['Denver Broncos', 'Denver Broncos', 'Denver Broncos']\n",
    "\n",
    "print(f\"Context: {single_context}\\nQuestion: {single_question}\\nCorrect answer: {single_correct_answers}\")\n",
    "print(\"Closed generative Model:\")\n",
    "print(generative_model.get_closed_model_answer(single_question))\n",
    "print(\"Open generative Model:\")\n",
    "print(generative_model.get_open_model_answer(single_question, single_context))"
   ]
  },
  {
   "cell_type": "markdown",
   "metadata": {},
   "source": [
    "# Evaluation"
   ]
  },
  {
   "cell_type": "code",
   "execution_count": null,
   "metadata": {},
   "outputs": [],
   "source": [
    "from transformers import pipeline\n",
    "\n",
    "class ExtractiveModel:\n",
    "  def __init__(self) -> None:\n",
    "    model_name = \"deepset/roberta-base-squad2\"\n",
    "    self.pipeline = pipeline('question-answering', model=model_name, tokenizer=model_name)\n",
    "\n",
    "  def get_extractive_batch_answer(self, question, context):\n",
    "    answer = self.pipeline(question=question, context=context)[\"answer\"]\n",
    "    return answer\n",
    "\n",
    "  def get_extractive_batch_answers(self, questions, contexts):\n",
    "    answers = [self.pipeline(question=q, context=c)[\"answer\"] for (q,c) in zip(questions, contexts)]\n",
    "    return answers"
   ]
  },
  {
   "cell_type": "code",
   "execution_count": null,
   "metadata": {},
   "outputs": [],
   "source": [
    "extractive_model = ExtractiveModel()"
   ]
  },
  {
   "cell_type": "code",
   "execution_count": null,
   "metadata": {},
   "outputs": [],
   "source": [
    "# test for single question\n",
    "single_context = \"\"\"Super Bowl 50 was an American football game to determine the champion of the National Football League (NFL) for the 2015 season. The American Football Conference (AFC) champion Denver Broncos defeated the National Football Conference (NFC) champion Carolina Panthers 24–10 to earn their third Super Bowl title. The game was played on February 7, 2016, at Levi's Stadium in the San Francisco Bay Area at Santa Clara, California. As this was the 50th Super Bowl, the league emphasized the \"golden anniversary\" with various gold-themed initiatives, as well as temporarily suspending the tradition of naming each Super Bowl game with Roman numerals (under which the game would have been known as \"Super Bowl L\"), so that the logo could prominently feature the Arabic numerals 50.\"\"\"\n",
    "single_question = \"Which NFL team represented the AFC at Super Bowl 50?\"\n",
    "single_correct_answers = ['Denver Broncos', 'Denver Broncos', 'Denver Broncos']\n",
    "\n",
    "print(f\"Context: {single_context}\\nQuestion: {single_question}\\nCorrect answer: {single_correct_answers}\")\n",
    "print(\"Extractive Model:\")\n",
    "print(extractive_model.get_extractive_batch_answer(single_question, single_context))"
   ]
  },
  {
   "cell_type": "markdown",
   "metadata": {},
   "source": [
    "## Compute the answers from the different models"
   ]
  },
  {
   "cell_type": "code",
   "execution_count": null,
   "metadata": {},
   "outputs": [],
   "source": [
    "# TEMP\n",
    "from datasets import load_dataset\n",
    "test_set = load_dataset('squad', split='validation[:20]')  # get first n entries from the test set\n",
    "test_contexts = test_set['context']  # list of strings\n",
    "test_questions = test_set['question']  # list of strings\n",
    "test_answers = [d['text'] for d in test_set['answers']]  # list of lists of answers\n",
    "#TEMP end"
   ]
  },
  {
   "cell_type": "code",
   "execution_count": null,
   "metadata": {},
   "outputs": [],
   "source": [
    "%%time\n",
    "closed_answers = generative_model.get_closed_batch_answers(test_questions)"
   ]
  },
  {
   "cell_type": "code",
   "execution_count": null,
   "metadata": {},
   "outputs": [],
   "source": [
    "%%time\n",
    "open_answers = generative_model.get_open_batch_answers(test_questions, test_contexts)"
   ]
  },
  {
   "cell_type": "code",
   "execution_count": null,
   "metadata": {},
   "outputs": [],
   "source": [
    "%%time\n",
    "extractive_answers = extractive_model.get_extractive_batch_answers(test_questions, test_contexts)"
   ]
  },
  {
   "cell_type": "markdown",
   "metadata": {},
   "source": [
    "## Compute the scores for the answers"
   ]
  },
  {
   "cell_type": "code",
   "execution_count": null,
   "metadata": {},
   "outputs": [],
   "source": []
  },
  {
   "cell_type": "markdown",
   "metadata": {},
   "source": [
    "## Plots"
   ]
  },
  {
   "cell_type": "code",
   "execution_count": null,
   "metadata": {},
   "outputs": [],
   "source": []
  }
 ],
 "metadata": {
  "kernelspec": {
   "display_name": "uni",
   "language": "python",
   "name": "python3"
  },
  "language_info": {
   "codemirror_mode": {
    "name": "ipython",
    "version": 3
   },
   "file_extension": ".py",
   "mimetype": "text/x-python",
   "name": "python",
   "nbconvert_exporter": "python",
   "pygments_lexer": "ipython3",
   "version": "3.11.0"
  }
 },
 "nbformat": 4,
 "nbformat_minor": 2
}
