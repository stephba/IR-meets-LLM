{
 "cells": [
  {
   "cell_type": "markdown",
   "metadata": {},
   "source": [
    "# Load data and data analysis"
   ]
  },
  {
   "cell_type": "code",
   "execution_count": null,
   "metadata": {},
   "outputs": [],
   "source": [
    "# TODO\n",
    "# TODO: maybe load the dataset as follows from huggingface\n",
    "# https://huggingface.co/docs/datasets/v1.9.0/loading_datasets.html\n",
    "from datasets import load_dataset\n",
    "dataset = load_dataset('squad')\n",
    "# TODO: something similiar to this:\n",
    "# TEMP\n",
    "from datasets import load_dataset\n",
    "test_set = load_dataset('squad', split='validation[:1000]')  # get first n entries from the test set\n",
    "test_contexts = test_set['context']  # list of strings\n",
    "test_questions = test_set['question']  # list of strings\n",
    "test_answers = [d['text'] for d in test_set['answers']]  # list of lists of answers\n",
    "#TEMP end"
   ]
  },
  {
   "cell_type": "markdown",
   "metadata": {},
   "source": [
    "# Passage Ranking"
   ]
  },
  {
   "cell_type": "code",
   "execution_count": null,
   "metadata": {},
   "outputs": [],
   "source": [
    "from sentence_transformers import SentenceTransformer\n",
    "from sklearn.metrics.pairwise import cosine_similarity\n",
    "import nltk\n",
    "import numpy as np\n",
    "\n",
    "class PassageRanker:\n",
    "  def __init__(self) -> None:\n",
    "    self.model = SentenceTransformer('sentence-transformers/all-mpnet-base-v2')\n",
    "\n",
    "  def __get_most_similiar_sentence__(self, question, context):\n",
    "    sentences = nltk.sent_tokenize(context)\n",
    "    question_embedding = self.model.encode([question])  # array to get the correct format\n",
    "    sentences_embedding = self.model.encode(sentences)\n",
    "    cosine_similiarities = cosine_similarity(sentences_embedding, question_embedding)\n",
    "    return sentences[np.argmax(cosine_similiarities)]\n",
    "  \n",
    "  def get_most_relevant_passages(self, questions, contexts):\n",
    "    return [self.__get_most_similiar_sentence__(question, context) for (question, context) in zip(questions, contexts)]"
   ]
  },
  {
   "cell_type": "code",
   "execution_count": null,
   "metadata": {},
   "outputs": [],
   "source": [
    "passage_ranker = PassageRanker()"
   ]
  },
  {
   "cell_type": "markdown",
   "metadata": {},
   "source": [
    "# Setup generative model (open/closed model)"
   ]
  },
  {
   "cell_type": "code",
   "execution_count": null,
   "metadata": {},
   "outputs": [],
   "source": [
    "from transformers import AutoTokenizer, OPTForCausalLM, pipeline\n",
    "from concurrent.futures import ThreadPoolExecutor\n",
    "from tqdm import tqdm\n",
    "MAX_NUM_THREADS = 10\n",
    "import torch\n",
    "TORCH_DEVICE = torch.device(\"mps\")\n",
    "\n",
    "class GenerativeModel:\n",
    "    def __init__(self, max_answer_length) -> None:\n",
    "        self.generator = pipeline('text-generation', model=\"facebook/opt-1.3b\")\n",
    "        self.model = OPTForCausalLM.from_pretrained(\"facebook/opt-1.3b\")\n",
    "        self.model.to(TORCH_DEVICE)\n",
    "        self.tokenizer = AutoTokenizer.from_pretrained(\"facebook/opt-1.3b\")\n",
    "        self.tokenizer.padding_side = \"left\"   # so that the text will continue as without padding\n",
    "        self.max_answer_length = max_answer_length\n",
    "\n",
    "    def get_open_model_answer(self, question, context, use_pipeline=False):\n",
    "        prompt = f\"CONTEXT:\\n{context}\\nQUESTION:\\n{question}\"\n",
    "        # generate answer\n",
    "        answer = self._generate_answer(prompt, use_pipeline)\n",
    "        # remove prompt from generated text\n",
    "        answer = answer.removeprefix(prompt)\n",
    "        return answer\n",
    "\n",
    "    def get_closed_model_answer(self, question, use_pipeline=False):\n",
    "        prompt = question\n",
    "        # generate answer\n",
    "        answer = self._generate_answer(prompt, use_pipeline)\n",
    "        # remove prompt from generated text\n",
    "        answer = answer.removeprefix(prompt)\n",
    "        return answer\n",
    "\n",
    "    def get_open_batch_answers(self, questions, contexts, use_pipeline=False):\n",
    "        assert len(questions) == len(contexts), \"questions and contexts should have the same length\"\n",
    "        prompts = [f\"CONTEXT:\\n{contexts[i]}\\nQUESTION:\\n{questions[i]}\" for i in range(len(questions))]\n",
    "        # generate answers\n",
    "        answers = self._generate_batch_answers(prompts, use_pipeline)\n",
    "        # remove prompts from generated text\n",
    "        answers = [answers[i].removeprefix(prompts[i]) for i in range(len(prompts))]\n",
    "        return answers\n",
    "\n",
    "    # https://github.com/huggingface/transformers/issues/10704\n",
    "    def get_closed_batch_answers(self, questions, use_pipeline=False):\n",
    "        prompts = questions\n",
    "        # generate answers\n",
    "        answers = self._generate_batch_answers(prompts, use_pipeline)\n",
    "        # remove prompts from generated text\n",
    "        answers = [answers[i].removeprefix(prompts[i]) for i in range(len(prompts))]\n",
    "        return answers\n",
    "    \n",
    "    def _generate_answer(self, prompt, use_pipeline):\n",
    "        if use_pipeline:\n",
    "            answer = self.generator(prompt, max_new_tokens=self.max_answer_length)[0]['generated_text']\n",
    "        else:\n",
    "            inputs = self.tokenizer(prompt, return_tensors=\"pt\").to(TORCH_DEVICE)\n",
    "            generate_ids = self.model.generate(inputs.input_ids, max_new_tokens=self.max_answer_length)\n",
    "            answer = self.tokenizer.batch_decode(generate_ids, skip_special_tokens=True, clean_up_tokenization_spaces=False)[0]\n",
    "        return answer\n",
    "\n",
    "    def _generate_batch_answers(self, prompts, use_pipeline):\n",
    "        if use_pipeline:\n",
    "            answers = []\n",
    "            with ThreadPoolExecutor(max_workers=MAX_NUM_THREADS) as executor:\n",
    "                results = list(tqdm(executor.map(self.__generate_answer_multithread__, prompts), total=len(prompts)))\n",
    "            answers.extend(results)\n",
    "        else:\n",
    "            inputs = self.tokenizer(prompts, return_tensors=\"pt\", padding=True).to(TORCH_DEVICE)  # padding, so that all prompts have same length for computing it as a batch\n",
    "            generate_ids = self.model.generate(inputs.input_ids, max_new_tokens=self.max_answer_length)\n",
    "            answers = self.tokenizer.batch_decode(generate_ids, skip_special_tokens=True, clean_up_tokenization_spaces=False)\n",
    "        return answers\n",
    "    \n",
    "    def __generate_answer_multithread__(self, prompt):\n",
    "        # Your answer generation logic here\n",
    "        return self.generator(prompt, max_new_tokens=self.max_answer_length)[0]['generated_text']"
   ]
  },
  {
   "cell_type": "code",
   "execution_count": null,
   "metadata": {},
   "outputs": [],
   "source": [
    "generative_model = GenerativeModel(max_answer_length=42)"
   ]
  },
  {
   "cell_type": "code",
   "execution_count": null,
   "metadata": {},
   "outputs": [],
   "source": [
    "# test for single question\n",
    "single_context = \"\"\"Super Bowl 50 was an American football game to determine the champion of the National Football League (NFL) for the 2015 season. The American Football Conference (AFC) champion Denver Broncos defeated the National Football Conference (NFC) champion Carolina Panthers 24–10 to earn their third Super Bowl title. The game was played on February 7, 2016, at Levi's Stadium in the San Francisco Bay Area at Santa Clara, California. As this was the 50th Super Bowl, the league emphasized the \"golden anniversary\" with various gold-themed initiatives, as well as temporarily suspending the tradition of naming each Super Bowl game with Roman numerals (under which the game would have been known as \"Super Bowl L\"), so that the logo could prominently feature the Arabic numerals 50.\"\"\"\n",
    "single_question = \"Which NFL team represented the AFC at Super Bowl 50?\"\n",
    "single_correct_answers = ['Denver Broncos', 'Denver Broncos', 'Denver Broncos']\n",
    "\n",
    "print(f\"Context: {single_context}\\nQuestion: {single_question}\\nCorrect answer: {single_correct_answers}\")\n",
    "print(\"Closed generative Model:\")\n",
    "print(generative_model.get_closed_model_answer(single_question))\n",
    "print(\"Open generative Model:\")\n",
    "print(generative_model.get_open_model_answer(single_question, single_context))"
   ]
  },
  {
   "cell_type": "markdown",
   "metadata": {},
   "source": [
    "# Evaluation"
   ]
  },
  {
   "cell_type": "code",
   "execution_count": null,
   "metadata": {},
   "outputs": [],
   "source": [
    "import nltk\n",
    "from nltk.translate.bleu_score import sentence_bleu\n",
    "from nltk.tokenize import word_tokenize\n",
    "import numpy as np\n",
    "from transformers import pipeline\n",
    "nltk.download('punkt')\n",
    "from concurrent.futures import ThreadPoolExecutor\n",
    "from tqdm import tqdm\n",
    "MAX_NUM_THREADS = 10"
   ]
  },
  {
   "cell_type": "code",
   "execution_count": null,
   "metadata": {},
   "outputs": [],
   "source": [
    "class ExtractiveModel:\n",
    "  def __init__(self) -> None:\n",
    "    model_name = \"deepset/roberta-base-squad2\"\n",
    "    self.pipeline = pipeline('question-answering', model=model_name, tokenizer=model_name)\n",
    "\n",
    "  def get_extractive_batch_answer(self, question, context):\n",
    "    answer = self.pipeline(question=question, context=context)[\"answer\"]\n",
    "    return answer\n",
    "  \n",
    "  def get_extractive_batch_answers(self, questions, contexts):\n",
    "    answers = []\n",
    "    with ThreadPoolExecutor(max_workers=MAX_NUM_THREADS) as executor:\n",
    "      results = list(tqdm(executor.map(self.get_extractive_batch_answer, questions, contexts), total=len(questions)))\n",
    "    answers.extend(results)\n",
    "    return answers"
   ]
  },
  {
   "cell_type": "code",
   "execution_count": null,
   "metadata": {},
   "outputs": [],
   "source": [
    "extractive_model = ExtractiveModel()"
   ]
  },
  {
   "cell_type": "code",
   "execution_count": null,
   "metadata": {},
   "outputs": [],
   "source": [
    "# test for single question\n",
    "single_context = \"\"\"Super Bowl 50 was an American football game to determine the champion of the National Football League (NFL) for the 2015 season. The American Football Conference (AFC) champion Denver Broncos defeated the National Football Conference (NFC) champion Carolina Panthers 24–10 to earn their third Super Bowl title. The game was played on February 7, 2016, at Levi's Stadium in the San Francisco Bay Area at Santa Clara, California. As this was the 50th Super Bowl, the league emphasized the \"golden anniversary\" with various gold-themed initiatives, as well as temporarily suspending the tradition of naming each Super Bowl game with Roman numerals (under which the game would have been known as \"Super Bowl L\"), so that the logo could prominently feature the Arabic numerals 50.\"\"\"\n",
    "single_question = \"Which NFL team represented the AFC at Super Bowl 50?\"\n",
    "single_correct_answers = ['Denver Broncos', 'Denver Broncos', 'Denver Broncos']\n",
    "\n",
    "print(f\"Context: {single_context}\\nQuestion: {single_question}\\nCorrect answer: {single_correct_answers}\")\n",
    "print(\"Extractive Model:\")\n",
    "single_answer = extractive_model.get_extractive_batch_answer(single_question, single_context)\n",
    "print(single_answer)"
   ]
  },
  {
   "cell_type": "markdown",
   "metadata": {},
   "source": [
    "## Compute the answers from the different models"
   ]
  },
  {
   "cell_type": "code",
   "execution_count": null,
   "metadata": {},
   "outputs": [],
   "source": [
    "# TEMP\n",
    "from datasets import load_dataset\n",
    "test_set = load_dataset('squad', split='validation[:1000]')  # get first n entries from the test set\n",
    "test_contexts = test_set['context']  # list of strings\n",
    "test_questions = test_set['question']  # list of strings\n",
    "test_answers = [d['text'] for d in test_set['answers']]  # list of lists of answers\n",
    "# passage ranking\n",
    "test_contexts_passage_ranked = passage_ranker.get_most_relevant_passages(test_questions, test_contexts)\n",
    "#TEMP end"
   ]
  },
  {
   "cell_type": "code",
   "execution_count": null,
   "metadata": {},
   "outputs": [],
   "source": [
    "%%time\n",
    "closed_answers = generative_model.get_closed_batch_answers(test_questions)"
   ]
  },
  {
   "cell_type": "code",
   "execution_count": null,
   "metadata": {},
   "outputs": [],
   "source": [
    "%%time\n",
    "open_answers = generative_model.get_open_batch_answers(test_questions, test_contexts_passage_ranked)"
   ]
  },
  {
   "cell_type": "code",
   "execution_count": null,
   "metadata": {},
   "outputs": [],
   "source": [
    "%%time\n",
    "extractive_answers = extractive_model.get_extractive_batch_answers(test_questions, test_contexts)"
   ]
  },
  {
   "cell_type": "markdown",
   "metadata": {},
   "source": [
    "## Compute the scores for the answers"
   ]
  },
  {
   "cell_type": "markdown",
   "metadata": {},
   "source": [
    "### Recall"
   ]
  },
  {
   "cell_type": "code",
   "execution_count": null,
   "metadata": {},
   "outputs": [],
   "source": [
    "# NOTE: BLEU cannot be used, since the sentences are often very short, and BLEU uses 4-grams, so if the answer has less than 4 words, it gets a BLEU Score of 0.0\n",
    "\n",
    "def compute_word_recall(correct_answer_, model_answer_):\n",
    "  correct_answer_words = word_tokenize(correct_answer_)\n",
    "  model_answer_words = set(word_tokenize(model_answer_))\n",
    "  relevant_retrieved_words = np.sum([(corr_word in model_answer_words) for corr_word in correct_answer_words])\n",
    "  all_relevant_words = len(correct_answer_words)\n",
    "  return relevant_retrieved_words / all_relevant_words\n",
    "\n",
    "def compute_word_recall_multiple_answers(correct_answers_single_question_, model_answer_):\n",
    "  # return the best score, since the different answers are often synonyms and if one is taken, this is fine\n",
    "  return np.max([compute_word_recall(correct_answer, model_answer_) for correct_answer in correct_answers_single_question_])\n",
    "\n",
    "def compute_word_recall_average(correct_answers_, model_answers_):\n",
    "  all_recalls = [compute_word_recall_multiple_answers(correct_answer, model_answer) for (correct_answer, model_answer) in zip(correct_answers_, model_answers_)]\n",
    "  return np.mean(all_recalls)"
   ]
  },
  {
   "cell_type": "code",
   "execution_count": null,
   "metadata": {},
   "outputs": [],
   "source": [
    "closed_recall = compute_word_recall_average(test_answers, closed_answers)\n",
    "closed_recall"
   ]
  },
  {
   "cell_type": "code",
   "execution_count": null,
   "metadata": {},
   "outputs": [],
   "source": [
    "open_recall = compute_word_recall_average(test_answers, open_answers)\n",
    "open_recall"
   ]
  },
  {
   "cell_type": "code",
   "execution_count": null,
   "metadata": {},
   "outputs": [],
   "source": [
    "extractive_recall = compute_word_recall_average(test_answers, extractive_answers)\n",
    "extractive_recall"
   ]
  },
  {
   "cell_type": "markdown",
   "metadata": {},
   "source": [
    "### Precision"
   ]
  },
  {
   "cell_type": "code",
   "execution_count": null,
   "metadata": {},
   "outputs": [],
   "source": [
    "def compute_word_precision(correct_answer_, model_answer_):\n",
    "  correct_answer_words = word_tokenize(correct_answer_)\n",
    "  model_answer_words = set(word_tokenize(model_answer_))\n",
    "  relevant_retrieved_words = np.sum([(corr_word in model_answer_words) for corr_word in correct_answer_words])\n",
    "  all_retrieved_words = len(model_answer_words)\n",
    "  if all_retrieved_words == 0:  # avoid division by zero\n",
    "    precision = 0.0\n",
    "  else:\n",
    "    precision = relevant_retrieved_words / all_retrieved_words\n",
    "  return precision\n",
    "\n",
    "def compute_word_precision_multiple_answers(correct_answers_single_question_, model_answer_):\n",
    "  # return the best score, since the different answers are often synonyms and if one is taken, this is fine\n",
    "  return np.max([compute_word_precision(correct_answer, model_answer_) for correct_answer in correct_answers_single_question_])\n",
    "\n",
    "def compute_word_precision_average(correct_answers_, model_answers_):\n",
    "  all_recalls = [compute_word_precision_multiple_answers(correct_answer, model_answer) for (correct_answer, model_answer) in zip(correct_answers_, model_answers_)]\n",
    "  return np.mean(all_recalls)"
   ]
  },
  {
   "cell_type": "code",
   "execution_count": null,
   "metadata": {},
   "outputs": [],
   "source": [
    "closed_precision = compute_word_precision_average(test_answers, closed_answers)\n",
    "closed_precision"
   ]
  },
  {
   "cell_type": "code",
   "execution_count": null,
   "metadata": {},
   "outputs": [],
   "source": [
    "open_precision = compute_word_precision_average(test_answers, open_answers)\n",
    "open_precision"
   ]
  },
  {
   "cell_type": "code",
   "execution_count": null,
   "metadata": {},
   "outputs": [],
   "source": [
    "extractive_precision = compute_word_precision_average(test_answers, extractive_answers)\n",
    "extractive_precision"
   ]
  },
  {
   "cell_type": "markdown",
   "metadata": {},
   "source": [
    "## Plots"
   ]
  },
  {
   "cell_type": "code",
   "execution_count": null,
   "metadata": {},
   "outputs": [],
   "source": []
  }
 ],
 "metadata": {
  "kernelspec": {
   "display_name": "uni",
   "language": "python",
   "name": "python3"
  },
  "language_info": {
   "codemirror_mode": {
    "name": "ipython",
    "version": 3
   },
   "file_extension": ".py",
   "mimetype": "text/x-python",
   "name": "python",
   "nbconvert_exporter": "python",
   "pygments_lexer": "ipython3",
   "version": "3.11.5"
  }
 },
 "nbformat": 4,
 "nbformat_minor": 2
}
